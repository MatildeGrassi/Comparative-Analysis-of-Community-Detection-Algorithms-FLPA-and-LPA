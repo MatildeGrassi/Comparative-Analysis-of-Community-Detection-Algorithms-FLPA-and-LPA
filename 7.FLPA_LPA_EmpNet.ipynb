{
 "cells": [
  {
   "cell_type": "code",
   "execution_count": 1,
   "id": "170c32c5-03e4-4900-8cdb-a42104fc3f62",
   "metadata": {},
   "outputs": [
    {
     "name": "stdout",
     "output_type": "stream",
     "text": [
      "Grafo com-dblp salvato con 425957 nodi e 1049866 edges.\n"
     ]
    },
    {
     "name": "stderr",
     "output_type": "stream",
     "text": [
      "Computing: 100%|████████████████████████████████████████████████████████████████████| 20/20 [1:12:40<00:00, 218.02s/it]\n"
     ]
    },
    {
     "name": "stdout",
     "output_type": "stream",
     "text": [
      "Computational time for FLPA: 32.377 seconds +- 0.7997.\n",
      "Number of communities detected by FLPA: 141246.1\n",
      "Modularity for FLPA: 0.6599814566809369\n",
      "-------------------------\n",
      "Computational time for ASYN. LPA: 114.7533 seconds +- 37.0333.\n",
      "Number of communities detected by ASYN. LPA: 155213.9\n",
      "Modularity for ASYN. LPA: 0.621637323054524\n",
      "-------------------------\n",
      "Computational time for SYN. LPA: 59.5063 seconds +- 0.5565.\n",
      "Number of communities detected by SYN. LPA: 151550.0\n",
      "Modularity for SYN. LPA: 0.6499232243522097\n",
      "--------------------------------------------------\n",
      "Grafo academia_edu salvato con 200169 nodi e 1022883 edges.\n"
     ]
    },
    {
     "name": "stderr",
     "output_type": "stream",
     "text": [
      "Computing: 100%|██████████████████████████████████████████████████████████████████████| 20/20 [33:29<00:00, 100.47s/it]\n"
     ]
    },
    {
     "name": "stdout",
     "output_type": "stream",
     "text": [
      "Computational time for FLPA: 11.1692 seconds +- 1.6771.\n",
      "Number of communities detected by FLPA: 4638.75\n",
      "Modularity for FLPA: 0.2834181298102246\n",
      "-------------------------\n",
      "Computational time for ASYN. LPA: 44.1149 seconds +- 11.0674.\n",
      "Number of communities detected by ASYN. LPA: 8252.1\n",
      "Modularity for ASYN. LPA: 0.3066524575839856\n",
      "-------------------------\n",
      "Computational time for SYN. LPA: 37.0173 seconds +- 0.3136.\n",
      "Number of communities detected by SYN. LPA: 7889.0\n",
      "Modularity for SYN. LPA: 0.26235306739003594\n",
      "--------------------------------------------------\n",
      "Grafo google_plus salvato con 211187 nodi e 1143411 edges.\n"
     ]
    },
    {
     "name": "stderr",
     "output_type": "stream",
     "text": [
      "Computing: 100%|███████████████████████████████████████████████████████████████████████| 20/20 [28:41<00:00, 86.10s/it]\n"
     ]
    },
    {
     "name": "stdout",
     "output_type": "stream",
     "text": [
      "Computational time for FLPA: 9.4081 seconds +- 0.4113.\n",
      "Number of communities detected by FLPA: 32327.65\n",
      "Modularity for FLPA: 0.8013219118817348\n",
      "-------------------------\n",
      "Computational time for ASYN. LPA: 32.1782 seconds +- 4.9664.\n",
      "Number of communities detected by ASYN. LPA: 51522.05\n",
      "Modularity for ASYN. LPA: 0.7816496932484231\n",
      "-------------------------\n",
      "Computational time for SYN. LPA: 37.3943 seconds +- 3.2886.\n",
      "Number of communities detected by SYN. LPA: 50323.0\n",
      "Modularity for SYN. LPA: 0.7787685743830386\n",
      "--------------------------------------------------\n",
      "Grafo marvel_universe salvato con 19428 nodi e 95497 edges.\n"
     ]
    },
    {
     "name": "stderr",
     "output_type": "stream",
     "text": [
      "Computing: 100%|███████████████████████████████████████████████████████████████████████| 20/20 [01:53<00:00,  5.66s/it]\n"
     ]
    },
    {
     "name": "stdout",
     "output_type": "stream",
     "text": [
      "Computational time for FLPA: 0.5954 seconds +- 0.1107.\n",
      "Number of communities detected by FLPA: 486.95\n",
      "Modularity for FLPA: 0.6075348331176846\n",
      "-------------------------\n",
      "Computational time for ASYN. LPA: 2.2687 seconds +- 0.6789.\n",
      "Number of communities detected by ASYN. LPA: 664.0\n",
      "Modularity for ASYN. LPA: 0.5818066374953565\n",
      "-------------------------\n",
      "Computational time for SYN. LPA: 2.2454 seconds +- 0.2741.\n",
      "Number of communities detected by SYN. LPA: 737.0\n",
      "Modularity for SYN. LPA: 0.6490045262194\n",
      "--------------------------------------------------\n",
      "Grafo pgp_strong salvato con 39796 nodi e 197150 edges.\n"
     ]
    },
    {
     "name": "stderr",
     "output_type": "stream",
     "text": [
      "Computing: 100%|███████████████████████████████████████████████████████████████████████| 20/20 [04:05<00:00, 12.27s/it]\n"
     ]
    },
    {
     "name": "stdout",
     "output_type": "stream",
     "text": [
      "Computational time for FLPA: 1.0995 seconds +- 0.0622.\n",
      "Number of communities detected by FLPA: 3269.5\n",
      "Modularity for FLPA: 0.6967457617981163\n",
      "-------------------------\n",
      "Computational time for ASYN. LPA: 5.2554 seconds +- 1.0232.\n",
      "Number of communities detected by ASYN. LPA: 4778.3\n",
      "Modularity for ASYN. LPA: 0.6779692026685878\n",
      "-------------------------\n",
      "Computational time for SYN. LPA: 4.7448 seconds +- 0.0821.\n",
      "Number of communities detected by SYN. LPA: 4616.0\n",
      "Modularity for SYN. LPA: 0.7082522738138431\n",
      "--------------------------------------------------\n",
      "Grafo epinions_trust salvato con 75888 nodi e 405740 edges.\n"
     ]
    },
    {
     "name": "stderr",
     "output_type": "stream",
     "text": [
      "Computing: 100%|███████████████████████████████████████████████████████████████████████| 20/20 [06:14<00:00, 18.75s/it]"
     ]
    },
    {
     "name": "stdout",
     "output_type": "stream",
     "text": [
      "Computational time for FLPA: 1.7896 seconds +- 0.128.\n",
      "Number of communities detected by FLPA: 2552.8\n",
      "Modularity for FLPA: 0.05808200396930603\n",
      "-------------------------\n",
      "Computational time for ASYN. LPA: 6.7175 seconds +- 1.4653.\n",
      "Number of communities detected by ASYN. LPA: 4256.5\n",
      "Modularity for ASYN. LPA: 0.07022561925055396\n",
      "-------------------------\n",
      "Computational time for SYN. LPA: 7.4612 seconds +- 0.1233.\n",
      "Number of communities detected by SYN. LPA: 4596.0\n",
      "Modularity for SYN. LPA: 0.07555877106320176\n",
      "--------------------------------------------------\n"
     ]
    },
    {
     "name": "stderr",
     "output_type": "stream",
     "text": [
      "\n"
     ]
    }
   ],
   "source": [
    "#Computing the computational time and modularity for 6 large empirical networks \n",
    "#of LPA Syn., LPA Asyn., FLPA\n",
    "\n",
    "import networkx as nx\n",
    "import timeit\n",
    "from tqdm import tqdm\n",
    "import numpy as np\n",
    "\n",
    "#Networks to analyse\n",
    "files_path = ['com-dblp','academia_edu','google_plus','marvel_universe','pgp_strong','epinions_trust']\n",
    "\n",
    "for file_path in files_path:\n",
    "    #Saving the graph from the graphml file\n",
    "    G_d = nx.read_graphml('LargeEmpNetworks/'+file_path+'.graphml') \n",
    "    G = G_d.to_undirected()\n",
    "\n",
    "    #Printing parameters of the network\n",
    "    print(f\"Grafo {file_path} salvato con {G.number_of_nodes()} nodi e {G.number_of_edges()} edges.\")\n",
    "\n",
    "    #Initializing the variables\n",
    "    t_iterations_lpa_asyn=[]\n",
    "    t_iterations_lpa_syn=[]\n",
    "    t_iterations_flpa=[]\n",
    "    mod_flpa=[]\n",
    "    mod_lpa_syn=[]\n",
    "    mod_lpa_asyn=[]\n",
    "    n_communities_flpa=[]\n",
    "    n_communities_lpa_asyn=[]\n",
    "    n_communities_lpa_syn=[]\n",
    "    \n",
    "    for i in tqdm(range(20), desc=\"Computing\"):\n",
    "        #Cumputing time and modularity for each algorithm\n",
    "        start_time = timeit.default_timer() \n",
    "        communities_flpa=list(nx.community.fast_label_propagation_communities(G))\n",
    "        end_time = timeit.default_timer() \n",
    "        t_iteration = end_time - start_time\n",
    "        t_iterations_flpa.append(t_iteration)\n",
    "        mod_flpa.append(nx.community.modularity(G,communities_flpa))\n",
    "        n_communities_flpa.append(len(communities_flpa))\n",
    "        \n",
    "        start_time = timeit.default_timer() \n",
    "        communities_lpa_asyn = list(nx.community.asyn_lpa_communities(G))\n",
    "        end_time = timeit.default_timer() \n",
    "        tempo_iterazione = end_time - start_time  \n",
    "        t_iterations_lpa_asyn.append(tempo_iterazione)\n",
    "        mod_lpa_asyn.append(nx.community.modularity(G,communities_lpa_asyn))\n",
    "        n_communities_lpa_asyn.append(len(communities_lpa_asyn))\n",
    "\n",
    "        start_time = timeit.default_timer() \n",
    "        communities_lpa_syn = list(nx.community.label_propagation_communities(G))\n",
    "        end_time = timeit.default_timer()\n",
    "        tempo_iterazione = end_time - start_time \n",
    "        t_iterations_lpa_syn.append(tempo_iterazione)\n",
    "        mod_lpa_syn.append(nx.community.modularity(G,communities_lpa_syn))\n",
    "        n_communities_lpa_syn.append(len(communities_lpa_syn))\n",
    "        \n",
    "    #Printing the results\n",
    "    medium_t_flpa=np.mean(t_iterations_flpa)\n",
    "    std_t_flpa=np.std(t_iterations_flpa) \n",
    "    print(f\"Computational time for FLPA: {round(medium_t_flpa, 4)} seconds +- {round(std_t_flpa, 4)}.\")\n",
    "    print(f\"Number of communities detected by FLPA: {np.mean(n_communities_flpa)}\")\n",
    "    print(f\"Modularity for FLPA: {np.mean(mod_flpa)}\")\n",
    "    print(\"-\"*25)\n",
    "    medium_t_lpa_asyn=(np.mean(t_iterations_lpa_asyn))\n",
    "    std_t_lpa_asyn=(np.std(t_iterations_lpa_asyn))\n",
    "    print(f\"Computational time for ASYN. LPA: {round(medium_t_lpa_asyn, 4)} seconds +- {round(std_t_lpa_asyn, 4)}.\")\n",
    "    print(f\"Number of communities detected by ASYN. LPA: {np.mean(n_communities_lpa_asyn)}\")\n",
    "    print(f\"Modularity for ASYN. LPA: {np.mean(mod_lpa_asyn)}\")\n",
    "    print(\"-\"*25)\n",
    "    medium_t_lpa_syn=(np.mean(t_iterations_lpa_syn))\n",
    "    std_t_lpa_syn=(np.std(t_iterations_lpa_syn))\n",
    "    print(f\"Computational time for SYN. LPA: {round(medium_t_lpa_syn, 4)} seconds +- {round(std_t_lpa_syn, 4)}.\")\n",
    "    print(f\"Number of communities detected by SYN. LPA: {np.mean(n_communities_lpa_syn)}\")\n",
    "    print(f\"Modularity for SYN. LPA: {np.mean(mod_lpa_syn)}\")\n",
    "    print(\"-\"*50)"
   ]
  },
  {
   "cell_type": "code",
   "execution_count": null,
   "id": "8fd9d9d7-028a-4971-8cec-1fb41ed5a201",
   "metadata": {},
   "outputs": [],
   "source": []
  }
 ],
 "metadata": {
  "kernelspec": {
   "display_name": "Python 3 (ipykernel)",
   "language": "python",
   "name": "python3"
  },
  "language_info": {
   "codemirror_mode": {
    "name": "ipython",
    "version": 3
   },
   "file_extension": ".py",
   "mimetype": "text/x-python",
   "name": "python",
   "nbconvert_exporter": "python",
   "pygments_lexer": "ipython3",
   "version": "3.12.3"
  }
 },
 "nbformat": 4,
 "nbformat_minor": 5
}
