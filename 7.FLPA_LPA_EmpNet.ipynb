{
 "cells": [
  {
   "cell_type": "code",
   "execution_count": 1,
   "id": "170c32c5-03e4-4900-8cdb-a42104fc3f62",
   "metadata": {},
   "outputs": [
    {
     "name": "stdout",
     "output_type": "stream",
     "text": [
      "Grafo com-dblp salvato con 425957 nodi e 1049866 edges.\n"
     ]
    },
    {
     "name": "stderr",
     "output_type": "stream",
     "text": [
      "Computing: 100%|████████████████████████████████████████████████████████████████████| 20/20 [1:13:07<00:00, 219.36s/it]\n"
     ]
    },
    {
     "name": "stdout",
     "output_type": "stream",
     "text": [
      "Computational time for FLPA: 33.1296 seconds +- 1.0284.\n",
      "Modularity for FLPA: 0.6613277738835096\n",
      "Computational time for ASYN. LPA: 113.8176 seconds +- 35.9031.\n",
      "Modularity for ASYN. LPA: 0.6216295874984727\n",
      "Computational time for SYN. LPA: 60.7151 seconds +- 1.9308.\n",
      "Modularity for SYN. LPA: 0.6499232243522097\n",
      "--------------------------------------------------\n",
      "Grafo academia_edu salvato con 200169 nodi e 1022883 edges.\n"
     ]
    },
    {
     "name": "stderr",
     "output_type": "stream",
     "text": [
      "Computing: 100%|██████████████████████████████████████████████████████████████████████| 20/20 [35:42<00:00, 107.13s/it]\n"
     ]
    },
    {
     "name": "stdout",
     "output_type": "stream",
     "text": [
      "Computational time for FLPA: 10.8773 seconds +- 0.9633.\n",
      "Modularity for FLPA: 0.28814542073928173\n",
      "Computational time for ASYN. LPA: 50.7625 seconds +- 15.1272.\n",
      "Modularity for ASYN. LPA: 0.29993653171513057\n",
      "Computational time for SYN. LPA: 37.0999 seconds +- 0.2781.\n",
      "Modularity for SYN. LPA: 0.26235306739003594\n",
      "--------------------------------------------------\n",
      "Grafo google_plus salvato con 211187 nodi e 1143411 edges.\n"
     ]
    },
    {
     "name": "stderr",
     "output_type": "stream",
     "text": [
      "Computing: 100%|███████████████████████████████████████████████████████████████████████| 20/20 [29:17<00:00, 87.90s/it]\n"
     ]
    },
    {
     "name": "stdout",
     "output_type": "stream",
     "text": [
      "Computational time for FLPA: 9.5775 seconds +- 1.1578.\n",
      "Modularity for FLPA: 0.8029155132384481\n",
      "Computational time for ASYN. LPA: 34.8796 seconds +- 7.4568.\n",
      "Modularity for ASYN. LPA: 0.7832101371381147\n",
      "Computational time for SYN. LPA: 36.3972 seconds +- 0.4381.\n",
      "Modularity for SYN. LPA: 0.7787685743830386\n",
      "--------------------------------------------------\n",
      "Grafo marvel_universe salvato con 19428 nodi e 95497 edges.\n"
     ]
    },
    {
     "name": "stderr",
     "output_type": "stream",
     "text": [
      "Computing: 100%|███████████████████████████████████████████████████████████████████████| 20/20 [01:47<00:00,  5.38s/it]\n"
     ]
    },
    {
     "name": "stdout",
     "output_type": "stream",
     "text": [
      "Computational time for FLPA: 0.5439 seconds +- 0.0399.\n",
      "Modularity for FLPA: 0.6159062876658727\n",
      "Computational time for ASYN. LPA: 2.219 seconds +- 0.4803.\n",
      "Modularity for ASYN. LPA: 0.6111523700455211\n",
      "Computational time for SYN. LPA: 2.1199 seconds +- 0.0376.\n",
      "Modularity for SYN. LPA: 0.6490045262194\n",
      "--------------------------------------------------\n",
      "Grafo pgp_strong salvato con 39796 nodi e 197150 edges.\n"
     ]
    },
    {
     "name": "stderr",
     "output_type": "stream",
     "text": [
      "Computing: 100%|███████████████████████████████████████████████████████████████████████| 20/20 [04:10<00:00, 12.52s/it]\n"
     ]
    },
    {
     "name": "stdout",
     "output_type": "stream",
     "text": [
      "Computational time for FLPA: 1.0954 seconds +- 0.0722.\n",
      "Modularity for FLPA: 0.6970449311701382\n",
      "Computational time for ASYN. LPA: 5.5887 seconds +- 1.4288.\n",
      "Modularity for ASYN. LPA: 0.6759393563420769\n",
      "Computational time for SYN. LPA: 4.708 seconds +- 0.0364.\n",
      "Modularity for SYN. LPA: 0.7082522738138431\n",
      "--------------------------------------------------\n",
      "Grafo epinions_trust salvato con 75888 nodi e 405740 edges.\n"
     ]
    },
    {
     "name": "stderr",
     "output_type": "stream",
     "text": [
      "Computing: 100%|███████████████████████████████████████████████████████████████████████| 20/20 [06:06<00:00, 18.33s/it]"
     ]
    },
    {
     "name": "stdout",
     "output_type": "stream",
     "text": [
      "Computational time for FLPA: 1.7439 seconds +- 0.1115.\n",
      "Modularity for FLPA: 0.05657118174596761\n",
      "Computational time for ASYN. LPA: 6.3936 seconds +- 1.2061.\n",
      "Modularity for ASYN. LPA: 0.0704325697076182\n",
      "Computational time for SYN. LPA: 7.3944 seconds +- 0.0523.\n",
      "Modularity for SYN. LPA: 0.07555877106320176\n",
      "--------------------------------------------------\n"
     ]
    },
    {
     "name": "stderr",
     "output_type": "stream",
     "text": [
      "\n"
     ]
    }
   ],
   "source": [
    "#Computing the computational time and modularity for 6 large empirical networks \n",
    "#of LPA Syn., LPA Asyn., FLPA\n",
    "\n",
    "import networkx as nx\n",
    "import timeit\n",
    "from tqdm import tqdm\n",
    "import numpy as np\n",
    "\n",
    "#Networks to analyse\n",
    "files_path = ['com-dblp','academia_edu','google_plus','marvel_universe','pgp_strong','epinions_trust']\n",
    "\n",
    "for file_path in files_path:\n",
    "    #Saving the graph from the graphml file\n",
    "    G_d = nx.read_graphml('EmpNet/'+file_path+'.graphml') \n",
    "    G = G_d.to_undirected()\n",
    "\n",
    "    #Printing parameters of the network\n",
    "    print(f\"Grafo {file_path} salvato con {G.number_of_nodes()} nodi e {G.number_of_edges()} edges.\")\n",
    "\n",
    "    #Initializing the variables\n",
    "    t_iterations_lpa_asyn=[]\n",
    "    t_iterations_lpa_syn=[]\n",
    "    t_iterations_flpa=[]\n",
    "    mod_flpa=[]\n",
    "    mod_lpa_syn=[]\n",
    "    mod_lpa_asyn=[]\n",
    "\n",
    "    for i in tqdm(range(20), desc=\"Computing\"):\n",
    "        #Cumputing time and modularity for each algorithm\n",
    "        start_time = timeit.default_timer() \n",
    "        communities_flpa=list(nx.community.fast_label_propagation_communities(G))\n",
    "        end_time = timeit.default_timer() \n",
    "        t_iteration = end_time - start_time\n",
    "        t_iterations_flpa.append(t_iteration)\n",
    "        mod_flpa.append(nx.community.modularity(G,communities_flpa))\n",
    "        \n",
    "        start_time = timeit.default_timer() \n",
    "        communities_lpa_asyn = list(nx.community.asyn_lpa_communities(G))\n",
    "        end_time = timeit.default_timer() \n",
    "        tempo_iterazione = end_time - start_time  \n",
    "        t_iterations_lpa_asyn.append(tempo_iterazione)\n",
    "        mod_lpa_asyn.append(nx.community.modularity(G,communities_lpa_asyn))\n",
    "\n",
    "        start_time = timeit.default_timer() \n",
    "        communities_lpa_syn = list(nx.community.label_propagation_communities(G))\n",
    "        end_time = timeit.default_timer()\n",
    "        tempo_iterazione = end_time - start_time \n",
    "        t_iterations_lpa_syn.append(tempo_iterazione)\n",
    "        mod_lpa_syn.append(nx.community.modularity(G,communities_lpa_syn))\n",
    "        \n",
    "    #Printing the results\n",
    "    medium_t_flpa=np.mean(t_iterations_flpa)\n",
    "    std_t_flpa=np.std(t_iterations_flpa) \n",
    "    print(f\"Computational time for FLPA: {round(medium_t_flpa, 4)} seconds +- {round(std_t_flpa, 4)}.\")\n",
    "    print(f\"Modularity for FLPA: {np.mean(mod_flpa)}\")\n",
    "\n",
    "    medium_t_lpa_asyn=(np.mean(t_iterations_lpa_asyn))\n",
    "    std_t_lpa_asyn=(np.std(t_iterations_lpa_asyn))\n",
    "    print(f\"Computational time for ASYN. LPA: {round(medium_t_lpa_asyn, 4)} seconds +- {round(std_t_lpa_asyn, 4)}.\")\n",
    "    print(f\"Modularity for ASYN. LPA: {np.mean(mod_lpa_asyn)}\")\n",
    "\n",
    "    medium_t_lpa_syn=(np.mean(t_iterations_lpa_syn))\n",
    "    std_t_lpa_syn=(np.std(t_iterations_lpa_syn))\n",
    "    print(f\"Computational time for SYN. LPA: {round(medium_t_lpa_syn, 4)} seconds +- {round(std_t_lpa_syn, 4)}.\")\n",
    "    print(f\"Modularity for SYN. LPA: {np.mean(mod_lpa_syn)}\")\n",
    "    print(\"-\"*50)"
   ]
  },
  {
   "cell_type": "code",
   "execution_count": null,
   "id": "8fd9d9d7-028a-4971-8cec-1fb41ed5a201",
   "metadata": {},
   "outputs": [],
   "source": []
  }
 ],
 "metadata": {
  "kernelspec": {
   "display_name": "Python 3 (ipykernel)",
   "language": "python",
   "name": "python3"
  },
  "language_info": {
   "codemirror_mode": {
    "name": "ipython",
    "version": 3
   },
   "file_extension": ".py",
   "mimetype": "text/x-python",
   "name": "python",
   "nbconvert_exporter": "python",
   "pygments_lexer": "ipython3",
   "version": "3.12.3"
  }
 },
 "nbformat": 4,
 "nbformat_minor": 5
}
