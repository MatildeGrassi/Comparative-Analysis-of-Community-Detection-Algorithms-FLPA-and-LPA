{
 "cells": [
  {
   "cell_type": "code",
   "execution_count": 2,
   "id": "f80edc14-4223-475f-82ba-86ae26513c6c",
   "metadata": {},
   "outputs": [
    {
     "name": "stdout",
     "output_type": "stream",
     "text": [
      "Nodes: 10000, Edges: 49921, Average degree: 10\n"
     ]
    },
    {
     "name": "stderr",
     "output_type": "stream",
     "text": [
      "Computing: 100%|███████████████████████████████████████████████████████████████████████| 50/50 [01:47<00:00,  2.15s/it]\n"
     ]
    },
    {
     "name": "stdout",
     "output_type": "stream",
     "text": [
      "Average time for flpa: 1.1888 seconds +- 0.1591.\n",
      "Average time for asyn. lpa: 0.3464 seconds +- 0.0444.\n",
      "Average time for syn. lpa: 0.6175 seconds +- 0.0166.\n",
      "--------------------------------------------------\n",
      "Nodes: 10000, Edges: 100168, Average degree: 20\n"
     ]
    },
    {
     "name": "stderr",
     "output_type": "stream",
     "text": [
      "Computing: 100%|███████████████████████████████████████████████████████████████████████| 50/50 [01:44<00:00,  2.08s/it]\n"
     ]
    },
    {
     "name": "stdout",
     "output_type": "stream",
     "text": [
      "Average time for flpa: 0.7996 seconds +- 0.0778.\n",
      "Average time for asyn. lpa: 0.6776 seconds +- 0.0961.\n",
      "Average time for syn. lpa: 0.6024 seconds +- 0.0215.\n",
      "--------------------------------------------------\n",
      "Nodes: 10000, Edges: 149645, Average degree: 30\n"
     ]
    },
    {
     "name": "stderr",
     "output_type": "stream",
     "text": [
      "Computing: 100%|███████████████████████████████████████████████████████████████████████| 50/50 [01:52<00:00,  2.25s/it]\n"
     ]
    },
    {
     "name": "stdout",
     "output_type": "stream",
     "text": [
      "Average time for flpa: 0.7219 seconds +- 0.073.\n",
      "Average time for asyn. lpa: 0.9355 seconds +- 0.1435.\n",
      "Average time for syn. lpa: 0.5947 seconds +- 0.018.\n",
      "--------------------------------------------------\n",
      "Nodes: 10000, Edges: 200322, Average degree: 40\n"
     ]
    },
    {
     "name": "stderr",
     "output_type": "stream",
     "text": [
      "Computing: 100%|███████████████████████████████████████████████████████████████████████| 50/50 [01:45<00:00,  2.11s/it]\n"
     ]
    },
    {
     "name": "stdout",
     "output_type": "stream",
     "text": [
      "Average time for flpa: 0.6801 seconds +- 0.0617.\n",
      "Average time for asyn. lpa: 0.7319 seconds +- 0.0776.\n",
      "Average time for syn. lpa: 0.6939 seconds +- 0.0165.\n",
      "--------------------------------------------------\n",
      "Nodes: 10000, Edges: 249403, Average degree: 50\n"
     ]
    },
    {
     "name": "stderr",
     "output_type": "stream",
     "text": [
      "Computing: 100%|███████████████████████████████████████████████████████████████████████| 50/50 [01:40<00:00,  2.02s/it]\n"
     ]
    },
    {
     "name": "stdout",
     "output_type": "stream",
     "text": [
      "Average time for flpa: 0.6841 seconds +- 0.0618.\n",
      "Average time for asyn. lpa: 0.7061 seconds +- 0.0796.\n",
      "Average time for syn. lpa: 0.628 seconds +- 0.0231.\n",
      "--------------------------------------------------\n",
      "Nodes: 10000, Edges: 300920, Average degree: 60\n"
     ]
    },
    {
     "name": "stderr",
     "output_type": "stream",
     "text": [
      "Computing: 100%|███████████████████████████████████████████████████████████████████████| 50/50 [01:49<00:00,  2.19s/it]\n"
     ]
    },
    {
     "name": "stdout",
     "output_type": "stream",
     "text": [
      "Average time for flpa: 0.7064 seconds +- 0.0999.\n",
      "Average time for asyn. lpa: 0.7397 seconds +- 0.0867.\n",
      "Average time for syn. lpa: 0.7449 seconds +- 0.0815.\n",
      "--------------------------------------------------\n",
      "Nodes: 10000, Edges: 350856, Average degree: 70\n"
     ]
    },
    {
     "name": "stderr",
     "output_type": "stream",
     "text": [
      "Computing: 100%|███████████████████████████████████████████████████████████████████████| 50/50 [01:49<00:00,  2.19s/it]\n"
     ]
    },
    {
     "name": "stdout",
     "output_type": "stream",
     "text": [
      "Average time for flpa: 0.677 seconds +- 0.0439.\n",
      "Average time for asyn. lpa: 0.715 seconds +- 0.0863.\n",
      "Average time for syn. lpa: 0.8015 seconds +- 0.0193.\n",
      "--------------------------------------------------\n",
      "Nodes: 10000, Edges: 399935, Average degree: 80\n"
     ]
    },
    {
     "name": "stderr",
     "output_type": "stream",
     "text": [
      "Computing: 100%|███████████████████████████████████████████████████████████████████████| 50/50 [01:54<00:00,  2.28s/it]\n"
     ]
    },
    {
     "name": "stdout",
     "output_type": "stream",
     "text": [
      "Average time for flpa: 0.7101 seconds +- 0.0426.\n",
      "Average time for asyn. lpa: 0.6877 seconds +- 0.0607.\n",
      "Average time for syn. lpa: 0.8823 seconds +- 0.0345.\n",
      "--------------------------------------------------\n",
      "Nodes: 10000, Edges: 450163, Average degree: 90\n"
     ]
    },
    {
     "name": "stderr",
     "output_type": "stream",
     "text": [
      "Computing: 100%|███████████████████████████████████████████████████████████████████████| 50/50 [02:00<00:00,  2.40s/it]\n"
     ]
    },
    {
     "name": "stdout",
     "output_type": "stream",
     "text": [
      "Average time for flpa: 0.7161 seconds +- 0.0497.\n",
      "Average time for asyn. lpa: 0.7198 seconds +- 0.0305.\n",
      "Average time for syn. lpa: 0.9653 seconds +- 0.0212.\n",
      "--------------------------------------------------\n",
      "Nodes: 10000, Edges: 499741, Average degree: 100\n"
     ]
    },
    {
     "name": "stderr",
     "output_type": "stream",
     "text": [
      "Computing: 100%|███████████████████████████████████████████████████████████████████████| 50/50 [02:09<00:00,  2.59s/it]\n"
     ]
    },
    {
     "name": "stdout",
     "output_type": "stream",
     "text": [
      "Average time for flpa: 0.7489 seconds +- 0.0572.\n",
      "Average time for asyn. lpa: 0.783 seconds +- 0.0504.\n",
      "Average time for syn. lpa: 1.0615 seconds +- 0.0469.\n",
      "--------------------------------------------------\n",
      "Nodes: 10000, Edges: 549206, Average degree: 110\n"
     ]
    },
    {
     "name": "stderr",
     "output_type": "stream",
     "text": [
      "Computing: 100%|███████████████████████████████████████████████████████████████████████| 50/50 [02:15<00:00,  2.72s/it]\n"
     ]
    },
    {
     "name": "stdout",
     "output_type": "stream",
     "text": [
      "Average time for flpa: 0.7667 seconds +- 0.0636.\n",
      "Average time for asyn. lpa: 0.8147 seconds +- 0.0188.\n",
      "Average time for syn. lpa: 1.1351 seconds +- 0.0355.\n",
      "--------------------------------------------------\n",
      "Nodes: 10000, Edges: 599017, Average degree: 120\n"
     ]
    },
    {
     "name": "stderr",
     "output_type": "stream",
     "text": [
      "Computing: 100%|███████████████████████████████████████████████████████████████████████| 50/50 [02:22<00:00,  2.85s/it]\n"
     ]
    },
    {
     "name": "stdout",
     "output_type": "stream",
     "text": [
      "Average time for flpa: 0.7744 seconds +- 0.0411.\n",
      "Average time for asyn. lpa: 0.8582 seconds +- 0.0145.\n",
      "Average time for syn. lpa: 1.2133 seconds +- 0.0302.\n",
      "--------------------------------------------------\n",
      "Nodes: 10000, Edges: 649475, Average degree: 130\n"
     ]
    },
    {
     "name": "stderr",
     "output_type": "stream",
     "text": [
      "Computing: 100%|███████████████████████████████████████████████████████████████████████| 50/50 [02:32<00:00,  3.05s/it]\n"
     ]
    },
    {
     "name": "stdout",
     "output_type": "stream",
     "text": [
      "Average time for flpa: 0.8166 seconds +- 0.0574.\n",
      "Average time for asyn. lpa: 0.9224 seconds +- 0.0703.\n",
      "Average time for syn. lpa: 1.3076 seconds +- 0.075.\n",
      "--------------------------------------------------\n",
      "Nodes: 10000, Edges: 699760, Average degree: 140\n"
     ]
    },
    {
     "name": "stderr",
     "output_type": "stream",
     "text": [
      "Computing: 100%|███████████████████████████████████████████████████████████████████████| 50/50 [02:38<00:00,  3.16s/it]\n"
     ]
    },
    {
     "name": "stdout",
     "output_type": "stream",
     "text": [
      "Average time for flpa: 0.8382 seconds +- 0.0536.\n",
      "Average time for asyn. lpa: 0.9515 seconds +- 0.019.\n",
      "Average time for syn. lpa: 1.3741 seconds +- 0.046.\n",
      "--------------------------------------------------\n"
     ]
    },
    {
     "data": {
      "image/png": "[encoded data removed]",
      "text/plain": [
       "<Figure size 640x480 with 1 Axes>"
      ]
     },
     "metadata": {},
     "output_type": "display_data"
    }
   ],
   "source": [
    "#Plotting the computing times for the LPA asyn., LPA syn., FLPA on a ER synthetic network\n",
    "#with fixed number of nodes and increasing average degree\n",
    "\n",
    "import networkx as nx\n",
    "import matplotlib.pyplot as plt\n",
    "import timeit\n",
    "from tqdm import tqdm\n",
    "import numpy as np\n",
    "\n",
    "#Generating the synthetic ER networks\n",
    "def generate_er_graph(n, avg_degree):\n",
    "    p = avg_degree/(n-1)\n",
    "    G = nx.fast_gnp_random_graph(n,p) #faster than the erdos_renyi_graph function\n",
    "    return G\n",
    "\n",
    "#Parameters\n",
    "node_sizes = 10000\n",
    "avg_degree = [10,20,30,40,50,60,70,80,90,100,110,120,130,140]\n",
    "\n",
    "#Initializing the variables\n",
    "medium_t_flpa=[]\n",
    "medium_t_lpa_asyn=[]\n",
    "medium_t_lpa_syn=[]\n",
    "std_t_flpa=[]\n",
    "std_t_lpa_asyn=[]\n",
    "std_t_lpa_syn=[]\n",
    "j=0\n",
    "\n",
    "for n in avg_degree:\n",
    "    t_iterations_lpa_asyn=[]\n",
    "    t_iterations_lpa_syn=[]\n",
    "    t_iterations_flpa=[]\n",
    "    \n",
    "    G = generate_er_graph(node_sizes,n)\n",
    "    #Printing parameters of the created network\n",
    "    print(f\"Nodes: {node_sizes}, Edges: {G.number_of_edges()}, Average degree: {n}\")\n",
    "    \n",
    "    for i in tqdm(range(50), desc=\"Computing\"):\n",
    "        #Computing time for FLPA\n",
    "        start_time = timeit.default_timer() \n",
    "        communities_flpa=list(nx.community.fast_label_propagation_communities(G))\n",
    "        end_time = timeit.default_timer() \n",
    "        t_iteration = end_time - start_time\n",
    "        t_iterations_flpa.append(t_iteration)\n",
    "\n",
    "        #Computing time for asyn. LPA\n",
    "        start_time = timeit.default_timer() \n",
    "        communities_lpa_asyn = list(nx.community.asyn_lpa_communities(G))\n",
    "        end_time = timeit.default_timer() \n",
    "        tempo_iterazione = end_time - start_time  \n",
    "        t_iterations_lpa_asyn.append(tempo_iterazione)\n",
    "\n",
    "        #Computing time for syn. LPA\n",
    "        start_time = timeit.default_timer() \n",
    "        communities_lpa_syn = list(nx.community.label_propagation_communities(G))\n",
    "        end_time = timeit.default_timer() \n",
    "        tempo_iterazione = end_time - start_time  \n",
    "        t_iterations_lpa_syn.append(tempo_iterazione)\n",
    "\n",
    "    #Computing average and standard deviation for each algorithm\n",
    "    medium_t_flpa.append(np.mean(t_iterations_flpa))\n",
    "    std_t_flpa.append(np.std(t_iterations_flpa))\n",
    "    print(f\"Average time for flpa: {round(medium_t_flpa[j], 4)} seconds +- {round(std_t_flpa[j], 4)}.\")\n",
    "\n",
    "    medium_t_lpa_asyn.append(np.mean(t_iterations_lpa_asyn))\n",
    "    std_t_lpa_asyn.append(np.std(t_iterations_lpa_asyn))\n",
    "    print(f\"Average time for asyn. lpa: {round(medium_t_lpa_asyn[j], 4)} seconds +- {round(std_t_lpa_asyn[j], 4)}.\")\n",
    "\n",
    "    medium_t_lpa_syn.append(np.mean(t_iterations_lpa_syn))\n",
    "    std_t_lpa_syn.append(np.std(t_iterations_lpa_syn))\n",
    "    print(f\"Average time for syn. lpa: {round(medium_t_lpa_syn[j], 4)} seconds +- {round(std_t_lpa_syn[j], 4)}.\")\n",
    "\n",
    "    print(\"-\"*50)\n",
    "    j=j+1\n",
    "\n",
    "#Plotting the results\n",
    "plt.scatter(avg_degree, medium_t_flpa,color='blue', label='FLPA',s=10)\n",
    "plt.errorbar(avg_degree, medium_t_flpa,yerr=std_t_flpa,color='blue')\n",
    "plt.scatter(avg_degree, medium_t_lpa_asyn,color='red', label='Asyn. LPA',s=10)\n",
    "plt.errorbar(avg_degree, medium_t_lpa_asyn,yerr=std_t_lpa_asyn,color='red')\n",
    "plt.scatter(avg_degree, medium_t_lpa_syn,color='green', label='Syn. LPA', s=10)\n",
    "plt.errorbar(avg_degree, medium_t_lpa_syn,yerr=std_t_lpa_syn,color='green')\n",
    "\n",
    "plt.xlabel('average degree <k>')\n",
    "plt.ylabel('time (s)')\n",
    "plt.title(f'Erdos-Renyi with {node_sizes} nodes')\n",
    "plt.legend()\n",
    "plt.savefig(\"ER-graph.png\")\n",
    "plt.show()"
   ]
  },
  {
   "cell_type": "code",
   "execution_count": null,
   "id": "b879c207-1ffb-47d6-9584-882f7e721cc8",
   "metadata": {},
   "outputs": [],
   "source": []
  },
  {
   "cell_type": "code",
   "execution_count": null,
   "id": "82379050-c140-4de6-adab-aecb448c8cf2",
   "metadata": {},
   "outputs": [],
   "source": []
  }
 ],
 "metadata": {
  "kernelspec": {
   "display_name": "Python 3 (ipykernel)",
   "language": "python",
   "name": "python3"
  },
  "language_info": {
   "codemirror_mode": {
    "name": "ipython",
    "version": 3
   },
   "file_extension": ".py",
   "mimetype": "text/x-python",
   "name": "python",
   "nbconvert_exporter": "python",
   "pygments_lexer": "ipython3",
   "version": "3.12.3"
  }
 },
 "nbformat": 4,
 "nbformat_minor": 5
}
