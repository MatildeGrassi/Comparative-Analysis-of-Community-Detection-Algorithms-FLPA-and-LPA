{
 "cells": [
  {
   "cell_type": "code",
   "execution_count": 1,
   "id": "36ddf6e6-3060-4413-93ba-dc72f25935fd",
   "metadata": {},
   "outputs": [
    {
     "name": "stdout",
     "output_type": "stream",
     "text": [
      "Nodes: 10000, Edges: 49975, Average degree: 10\n"
     ]
    },
    {
     "name": "stderr",
     "output_type": "stream",
     "text": [
      "Computing: 100%|███████████████████████████████████████████████████████████████████████| 50/50 [01:08<00:00,  1.37s/it]\n"
     ]
    },
    {
     "name": "stdout",
     "output_type": "stream",
     "text": [
      "Average time for flpa: 0.4771 seconds +- 0.1019.\n",
      "Average time for asyn. lpa: 0.4663 seconds +- 0.1739.\n",
      "Average time for syn. lpa: 0.4294 seconds +- 0.0182.\n",
      "Nodes: 10000, Edges: 99900, Average degree: 20\n"
     ]
    },
    {
     "name": "stderr",
     "output_type": "stream",
     "text": [
      "Computing: 100%|███████████████████████████████████████████████████████████████████████| 50/50 [00:53<00:00,  1.07s/it]\n"
     ]
    },
    {
     "name": "stdout",
     "output_type": "stream",
     "text": [
      "Average time for flpa: 0.2722 seconds +- 0.0501.\n",
      "Average time for asyn. lpa: 0.3645 seconds +- 0.0602.\n",
      "Average time for syn. lpa: 0.4319 seconds +- 0.0237.\n",
      "Nodes: 10000, Edges: 149775, Average degree: 30\n"
     ]
    },
    {
     "name": "stderr",
     "output_type": "stream",
     "text": [
      "Computing: 100%|███████████████████████████████████████████████████████████████████████| 50/50 [00:58<00:00,  1.17s/it]\n"
     ]
    },
    {
     "name": "stdout",
     "output_type": "stream",
     "text": [
      "Average time for flpa: 0.2585 seconds +- 0.0263.\n",
      "Average time for asyn. lpa: 0.3235 seconds +- 0.0401.\n",
      "Average time for syn. lpa: 0.5853 seconds +- 0.0265.\n",
      "Nodes: 10000, Edges: 199600, Average degree: 40\n"
     ]
    },
    {
     "name": "stderr",
     "output_type": "stream",
     "text": [
      "Computing: 100%|███████████████████████████████████████████████████████████████████████| 50/50 [00:55<00:00,  1.11s/it]\n"
     ]
    },
    {
     "name": "stdout",
     "output_type": "stream",
     "text": [
      "Average time for flpa: 0.2805 seconds +- 0.0231.\n",
      "Average time for asyn. lpa: 0.34 seconds +- 0.012.\n",
      "Average time for syn. lpa: 0.49 seconds +- 0.0253.\n",
      "Nodes: 10000, Edges: 249375, Average degree: 50\n"
     ]
    },
    {
     "name": "stderr",
     "output_type": "stream",
     "text": [
      "Computing: 100%|███████████████████████████████████████████████████████████████████████| 50/50 [01:01<00:00,  1.23s/it]\n"
     ]
    },
    {
     "name": "stdout",
     "output_type": "stream",
     "text": [
      "Average time for flpa: 0.2955 seconds +- 0.0232.\n",
      "Average time for asyn. lpa: 0.382 seconds +- 0.0232.\n",
      "Average time for syn. lpa: 0.5536 seconds +- 0.0344.\n",
      "Nodes: 10000, Edges: 299100, Average degree: 60\n"
     ]
    },
    {
     "name": "stderr",
     "output_type": "stream",
     "text": [
      "Computing: 100%|███████████████████████████████████████████████████████████████████████| 50/50 [01:07<00:00,  1.36s/it]\n"
     ]
    },
    {
     "name": "stdout",
     "output_type": "stream",
     "text": [
      "Average time for flpa: 0.315 seconds +- 0.0197.\n",
      "Average time for asyn. lpa: 0.4177 seconds +- 0.0198.\n",
      "Average time for syn. lpa: 0.6258 seconds +- 0.0287.\n",
      "Nodes: 10000, Edges: 348775, Average degree: 70\n"
     ]
    },
    {
     "name": "stderr",
     "output_type": "stream",
     "text": [
      "Computing: 100%|███████████████████████████████████████████████████████████████████████| 50/50 [01:14<00:00,  1.48s/it]\n"
     ]
    },
    {
     "name": "stdout",
     "output_type": "stream",
     "text": [
      "Average time for flpa: 0.3385 seconds +- 0.0177.\n",
      "Average time for asyn. lpa: 0.4524 seconds +- 0.0117.\n",
      "Average time for syn. lpa: 0.6889 seconds +- 0.0267.\n",
      "Nodes: 10000, Edges: 398400, Average degree: 80\n"
     ]
    },
    {
     "name": "stderr",
     "output_type": "stream",
     "text": [
      "Computing: 100%|███████████████████████████████████████████████████████████████████████| 50/50 [01:19<00:00,  1.59s/it]\n"
     ]
    },
    {
     "name": "stdout",
     "output_type": "stream",
     "text": [
      "Average time for flpa: 0.3583 seconds +- 0.0107.\n",
      "Average time for asyn. lpa: 0.487 seconds +- 0.0156.\n",
      "Average time for syn. lpa: 0.7478 seconds +- 0.0264.\n",
      "Nodes: 10000, Edges: 447975, Average degree: 90\n"
     ]
    },
    {
     "name": "stderr",
     "output_type": "stream",
     "text": [
      "Computing: 100%|███████████████████████████████████████████████████████████████████████| 50/50 [01:27<00:00,  1.76s/it]\n"
     ]
    },
    {
     "name": "stdout",
     "output_type": "stream",
     "text": [
      "Average time for flpa: 0.4012 seconds +- 0.0263.\n",
      "Average time for asyn. lpa: 0.5289 seconds +- 0.0209.\n",
      "Average time for syn. lpa: 0.8247 seconds +- 0.033.\n",
      "Nodes: 10000, Edges: 497500, Average degree: 100\n"
     ]
    },
    {
     "name": "stderr",
     "output_type": "stream",
     "text": [
      "Computing: 100%|███████████████████████████████████████████████████████████████████████| 50/50 [01:33<00:00,  1.88s/it]\n"
     ]
    },
    {
     "name": "stdout",
     "output_type": "stream",
     "text": [
      "Average time for flpa: 0.4221 seconds +- 0.0211.\n",
      "Average time for asyn. lpa: 0.5615 seconds +- 0.012.\n",
      "Average time for syn. lpa: 0.8951 seconds +- 0.0306.\n",
      "Nodes: 10000, Edges: 546975, Average degree: 110\n"
     ]
    },
    {
     "name": "stderr",
     "output_type": "stream",
     "text": [
      "Computing: 100%|███████████████████████████████████████████████████████████████████████| 50/50 [01:40<00:00,  2.00s/it]\n"
     ]
    },
    {
     "name": "stdout",
     "output_type": "stream",
     "text": [
      "Average time for flpa: 0.4448 seconds +- 0.0213.\n",
      "Average time for asyn. lpa: 0.601 seconds +- 0.0164.\n",
      "Average time for syn. lpa: 0.9542 seconds +- 0.0423.\n",
      "Nodes: 10000, Edges: 596400, Average degree: 120\n"
     ]
    },
    {
     "name": "stderr",
     "output_type": "stream",
     "text": [
      "Computing: 100%|███████████████████████████████████████████████████████████████████████| 50/50 [01:48<00:00,  2.17s/it]\n"
     ]
    },
    {
     "name": "stdout",
     "output_type": "stream",
     "text": [
      "Average time for flpa: 0.4736 seconds +- 0.0317.\n",
      "Average time for asyn. lpa: 0.65 seconds +- 0.0626.\n",
      "Average time for syn. lpa: 1.0409 seconds +- 0.0895.\n",
      "Nodes: 10000, Edges: 645775, Average degree: 130\n"
     ]
    },
    {
     "name": "stderr",
     "output_type": "stream",
     "text": [
      "Computing: 100%|███████████████████████████████████████████████████████████████████████| 50/50 [01:53<00:00,  2.27s/it]\n"
     ]
    },
    {
     "name": "stdout",
     "output_type": "stream",
     "text": [
      "Average time for flpa: 0.4955 seconds +- 0.0188.\n",
      "Average time for asyn. lpa: 0.6767 seconds +- 0.0218.\n",
      "Average time for syn. lpa: 1.0987 seconds +- 0.031.\n",
      "Nodes: 10000, Edges: 695100, Average degree: 140\n"
     ]
    },
    {
     "name": "stderr",
     "output_type": "stream",
     "text": [
      "Computing: 100%|███████████████████████████████████████████████████████████████████████| 50/50 [02:00<00:00,  2.41s/it]\n"
     ]
    },
    {
     "name": "stdout",
     "output_type": "stream",
     "text": [
      "Average time for flpa: 0.5276 seconds +- 0.0244.\n",
      "Average time for asyn. lpa: 0.7165 seconds +- 0.0298.\n",
      "Average time for syn. lpa: 1.1635 seconds +- 0.0535.\n"
     ]
    },
    {
     "data": {
      "image/png": "[encoded data removed]",
      "text/plain": [
       "<Figure size 640x480 with 1 Axes>"
      ]
     },
     "metadata": {},
     "output_type": "display_data"
    }
   ],
   "source": [
    "#Plotting the computing times for the LPA asyn., LPA syn., FLPA on a BA synthetic network\n",
    "#with fixed number of nodes and increasing average degree\n",
    "\n",
    "import networkx as nx\n",
    "import matplotlib.pyplot as plt\n",
    "import timeit\n",
    "from tqdm import tqdm\n",
    "import numpy as np\n",
    "\n",
    "#Parameters\n",
    "node_sizes = 10000\n",
    "avg_degree = [10,20,30,40,50,60,70,80,90,100,110,120,130,140]\n",
    "\n",
    "#Initializing the variables \n",
    "medium_t_flpa=[]\n",
    "medium_t_lpa_asyn=[]\n",
    "medium_t_lpa_syn=[]\n",
    "std_t_flpa=[]\n",
    "std_t_lpa_asyn=[]\n",
    "std_t_lpa_syn=[]\n",
    "j=0\n",
    "for n in avg_degree:\n",
    "    t_iterations_lpa_asyn=[]\n",
    "    t_iterations_lpa_syn=[]\n",
    "    t_iterations_flpa=[]\n",
    "    \n",
    "    #Generating the synthetic BA network\n",
    "    m = n // 2\n",
    "    G = nx.barabasi_albert_graph(node_sizes, m) \n",
    "    #Printing parameters of the created network\n",
    "    print(f\"Nodes: {node_sizes}, Edges: {G.number_of_edges()}, Average degree: {n}\") \n",
    "    \n",
    "    for i in tqdm(range(50), desc=\"Computing\"):\n",
    "        #Computing time for FLPA\n",
    "        start_time = timeit.default_timer() \n",
    "        communities_flpa=list(nx.community.fast_label_propagation_communities(G))\n",
    "        end_time = timeit.default_timer() \n",
    "        t_iteration = end_time - start_time\n",
    "        t_iterations_flpa.append(t_iteration)\n",
    "\n",
    "        #Computing time for asyn. LPA\n",
    "        start_time = timeit.default_timer() \n",
    "        communities_lpa_asyn = list(nx.community.asyn_lpa_communities(G))\n",
    "        end_time = timeit.default_timer() \n",
    "        tempo_iterazione = end_time - start_time  \n",
    "        t_iterations_lpa_asyn.append(tempo_iterazione)\n",
    "\n",
    "        #Computing time for syn. LPA\n",
    "        start_time = timeit.default_timer() \n",
    "        communities_lpa_syn = list(nx.community.label_propagation_communities(G))\n",
    "        end_time = timeit.default_timer() \n",
    "        tempo_iterazione = end_time - start_time  \n",
    "        t_iterations_lpa_syn.append(tempo_iterazione)\n",
    "\n",
    "    #Computing average and standard deviation \n",
    "    medium_t_flpa.append(np.mean(t_iterations_flpa))\n",
    "    std_t_flpa.append(np.std(t_iterations_flpa))\n",
    "    print(f\"Average time for flpa: {round(medium_t_flpa[j], 4)} seconds +- {round(std_t_flpa[j], 4)}.\")\n",
    "\n",
    "    medium_t_lpa_asyn.append(np.mean(t_iterations_lpa_asyn))\n",
    "    std_t_lpa_asyn.append(np.std(t_iterations_lpa_asyn))\n",
    "    print(f\"Average time for asyn. lpa: {round(medium_t_lpa_asyn[j], 4)} seconds +- {round(std_t_lpa_asyn[j], 4)}.\")\n",
    "\n",
    "    medium_t_lpa_syn.append(np.mean(t_iterations_lpa_syn))\n",
    "    std_t_lpa_syn.append(np.std(t_iterations_lpa_syn))\n",
    "    print(f\"Average time for syn. lpa: {round(medium_t_lpa_syn[j], 4)} seconds +- {round(std_t_lpa_syn[j], 4)}.\")\n",
    "    \n",
    "    j=j+1\n",
    "\n",
    "#Plotting the results\n",
    "plt.scatter(avg_degree, medium_t_flpa,color='blue', label='FLPA',s=10)\n",
    "plt.errorbar(avg_degree, medium_t_flpa,yerr=std_t_flpa,color='blue')\n",
    "plt.scatter(avg_degree, medium_t_lpa_asyn,color='red', label='Asyn. LPA',s=10)\n",
    "plt.errorbar(avg_degree, medium_t_lpa_asyn,yerr=std_t_lpa_asyn,color='red')\n",
    "plt.scatter(avg_degree, medium_t_lpa_syn,color='green', label='Syn. LPA', s=10)\n",
    "plt.errorbar(avg_degree, medium_t_lpa_syn,yerr=std_t_lpa_syn,color='green')\n",
    "\n",
    "plt.xlabel('average degree <k>')\n",
    "plt.ylabel('time (s)')\n",
    "plt.title(f'Barabasi-Albert with {node_sizes} nodes')\n",
    "plt.legend()\n",
    "plt.savefig(\"BA-graph.png\")\n",
    "plt.show()\n",
    "    "
   ]
  },
  {
   "cell_type": "code",
   "execution_count": null,
   "id": "6994c046-966b-4519-a902-94bd5a45e229",
   "metadata": {},
   "outputs": [],
   "source": []
  }
 ],
 "metadata": {
  "kernelspec": {
   "display_name": "Python 3 (ipykernel)",
   "language": "python",
   "name": "python3"
  },
  "language_info": {
   "codemirror_mode": {
    "name": "ipython",
    "version": 3
   },
   "file_extension": ".py",
   "mimetype": "text/x-python",
   "name": "python",
   "nbconvert_exporter": "python",
   "pygments_lexer": "ipython3",
   "version": "3.12.3"
  }
 },
 "nbformat": 4,
 "nbformat_minor": 5
}
