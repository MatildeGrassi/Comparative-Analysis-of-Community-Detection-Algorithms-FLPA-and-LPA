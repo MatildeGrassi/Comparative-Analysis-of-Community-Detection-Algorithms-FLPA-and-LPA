{
 "cells": [
  {
   "cell_type": "code",
   "execution_count": 3,
   "id": "85cde519-744a-40da-8785-184c5e9b0b71",
   "metadata": {
    "scrolled": true
   },
   "outputs": [
    {
     "name": "stdout",
     "output_type": "stream",
     "text": [
      "Nodes: 10000, Edges: 49824, Mixing parameter: 0.1, Number of groups: 100\n",
      "Random sizes of groups are the following: [ 96 108   5 106  39  94   6   2 218 209 225 141  25  15 159 400  25  49\n",
      "   5 349  23 169  21  83 220  57  46   2 200  18 146  24  24  52 107  20\n",
      "  64 109 108  64  29  58 100  15  26  10  43   8   2   6  13  14 201 161\n",
      "   2 109  19 224   9  15  50 415   2   4 119   2  39  40  64 238 161  65\n",
      "  48 215 124  15   9 178 233  55   2  35 343 244 182  53 238 193 304 206\n",
      "  66 301 133 293  30 151  73  69 100  11]\n"
     ]
    },
    {
     "name": "stderr",
     "output_type": "stream",
     "text": [
      "Computing: 100%|███████████████████████████████████████████████████████████████████████| 50/50 [01:58<00:00,  2.36s/it]\n"
     ]
    },
    {
     "name": "stdout",
     "output_type": "stream",
     "text": [
      "Average time for flpa: 0.3688 seconds +- 0.1326.\n",
      "Average time for asyn. lpa: 0.9978 seconds +- 0.2492.\n",
      "Average time for syn. lpa: 0.9919 seconds +- 0.1486.\n",
      "--------------------------------------------------\n",
      "Nodes: 10000, Edges: 50258, Mixing parameter: 0.2, Number of groups: 100\n",
      "Random sizes of groups are the following: [427  22  75  29  17  59  24 180  14  33  28 118  89  74 123 261  80  23\n",
      "  34 168  27  66 247  38  25  81  74   4 158 144 111  48 312 109 142  79\n",
      "  19  26  49 281  35  29  38 192 288  31  24  19 167  55 205  21  77  29\n",
      "   2  69  17  79 129 146 132  26 206 216  63 114 101 202 128 272  98 103\n",
      "  23  48  83 129  40  63  80  26  94  11 372  70 134  17 168  74  13 473\n",
      "  91  84 171  47   4 294  31  19 104   6]\n"
     ]
    },
    {
     "name": "stderr",
     "output_type": "stream",
     "text": [
      "Computing: 100%|███████████████████████████████████████████████████████████████████████| 50/50 [02:12<00:00,  2.65s/it]\n"
     ]
    },
    {
     "name": "stdout",
     "output_type": "stream",
     "text": [
      "Average time for flpa: 0.4114 seconds +- 0.0187.\n",
      "Average time for asyn. lpa: 1.2595 seconds +- 0.2308.\n",
      "Average time for syn. lpa: 0.9831 seconds +- 0.0366.\n",
      "--------------------------------------------------\n",
      "Nodes: 10000, Edges: 50587, Mixing parameter: 0.3, Number of groups: 100\n",
      "Random sizes of groups are the following: [  9 284 201 136  26  59  61  18  55 130  31 186 106  48 124  97   6   5\n",
      " 109  41  33 145  76  26 139   3 128 148  59  47 175  87  92 356  14  11\n",
      "  13 104 112 114 150  32 116  13  17 338   7  22 311 375  91  46  33 129\n",
      "  28 169  32  31 216 401  51 175 157  37  66  88 179  22 194   2 234 122\n",
      "  48  88  20 203   2   7  43  57  66   2  32  51 149  34  84  78  45  36\n",
      "  87 215  77 137  19 245  29  45 587  16]\n"
     ]
    },
    {
     "name": "stderr",
     "output_type": "stream",
     "text": [
      "Computing: 100%|███████████████████████████████████████████████████████████████████████| 50/50 [03:01<00:00,  3.63s/it]\n"
     ]
    },
    {
     "name": "stdout",
     "output_type": "stream",
     "text": [
      "Average time for flpa: 0.543 seconds +- 0.0628.\n",
      "Average time for asyn. lpa: 1.9164 seconds +- 0.4911.\n",
      "Average time for syn. lpa: 1.1649 seconds +- 0.074.\n",
      "--------------------------------------------------\n",
      "Nodes: 10000, Edges: 50960, Mixing parameter: 0.4, Number of groups: 100\n",
      "Random sizes of groups are the following: [  6  39 370 125  10   8  28 223  21   4  45 214   9  57  38  87 557  29\n",
      "  17 462 141   7  25  25  56  27  24 124 137 247  20   2  93   3  47 157\n",
      "   2   6 278  88  69  70  96  67  15  48  41   7 324  45  31  58 197 155\n",
      " 131   2  34   4 199  97  62 238 103  83 140 108 119  12 109   3 384 201\n",
      "  53 279 105  16 276  43  80 190 164  32  16 225  84  41 108  62 126  76\n",
      "   6 117 111  34 136 161  36  68 122 123]\n"
     ]
    },
    {
     "name": "stderr",
     "output_type": "stream",
     "text": [
      "Computing: 100%|███████████████████████████████████████████████████████████████████████| 50/50 [03:19<00:00,  3.99s/it]\n"
     ]
    },
    {
     "name": "stdout",
     "output_type": "stream",
     "text": [
      "Average time for flpa: 0.7653 seconds +- 0.0472.\n",
      "Average time for asyn. lpa: 2.1294 seconds +- 0.6112.\n",
      "Average time for syn. lpa: 1.097 seconds +- 0.0402.\n",
      "--------------------------------------------------\n",
      "Nodes: 10000, Edges: 50650, Mixing parameter: 0.5, Number of groups: 100\n",
      "Random sizes of groups are the following: [ 88   9   7  15  98  18   4 187 201 355  86 139  28 211   2 216 208 319\n",
      "  76 144 206 430  44  19   2 151  36   3  41 113  51  27 277  11 188  73\n",
      "  59 126  26  94 214  55   2  53  58  59  30   2  73 312  73  85  23  72\n",
      "  64 152  94 233  79 184 102   2  11 131 101  21  69  13 143 203  63 136\n",
      "   2  83  32   2  55  58  98  47 127  76  86  45  69 152 444 249 160  54\n",
      " 119 148  57   5  57 174 187  65  23  26]\n"
     ]
    },
    {
     "name": "stderr",
     "output_type": "stream",
     "text": [
      "Computing: 100%|███████████████████████████████████████████████████████████████████████| 50/50 [02:43<00:00,  3.27s/it]\n"
     ]
    },
    {
     "name": "stdout",
     "output_type": "stream",
     "text": [
      "Average time for flpa: 0.9979 seconds +- 0.1369.\n",
      "Average time for asyn. lpa: 1.5982 seconds +- 0.4249.\n",
      "Average time for syn. lpa: 0.6695 seconds +- 0.0231.\n",
      "--------------------------------------------------\n",
      "Nodes: 10000, Edges: 51633, Mixing parameter: 0.6, Number of groups: 100\n",
      "Random sizes of groups are the following: [ 30 128 189 167  41 104  18 263   3  62  27 275  48 122  11 104 478  42\n",
      " 149  23 140  58  64 123 104  34 520  13   9  88 150  45 148  84 185  50\n",
      " 148 104   2  32 550 120 156  37   3   2   5  43 160  28  16 161   7  71\n",
      "  47   7 135   7  29 104 132 300  34  46  28  39  60 120  34  90 194 331\n",
      "  69  30  80  18  37  89  92 146 118 158  26   9  68 115  74  85  36   6\n",
      "  65 131 191   2 153  54  39  25   2 601]\n"
     ]
    },
    {
     "name": "stderr",
     "output_type": "stream",
     "text": [
      "Computing: 100%|███████████████████████████████████████████████████████████████████████| 50/50 [02:13<00:00,  2.68s/it]\n"
     ]
    },
    {
     "name": "stdout",
     "output_type": "stream",
     "text": [
      "Average time for flpa: 1.0029 seconds +- 0.1133.\n",
      "Average time for asyn. lpa: 0.8766 seconds +- 0.207.\n",
      "Average time for syn. lpa: 0.7958 seconds +- 0.0584.\n",
      "--------------------------------------------------\n",
      "Nodes: 10000, Edges: 51820, Mixing parameter: 0.7, Number of groups: 100\n",
      "Random sizes of groups are the following: [ 51 166  97  56  79 165  15   2  13  36  12  43  15  30  33  48 133 126\n",
      "  48 130 124 191 404   5  49  34   8  78 118 273 241   3 200   4  93 682\n",
      "  64  29 263 111 131  10 404  66  35  89  41  59  64 198  39  14  52  44\n",
      "  44 113 133 294  63  60 116 341  15  74  15 343  82  23  79  38  50  21\n",
      " 152   2  31  55  28 127 122 143 216  43 101 160   7  41  41  71  77  94\n",
      "  72 173 183 110 209  13  31  66  46 164]\n"
     ]
    },
    {
     "name": "stderr",
     "output_type": "stream",
     "text": [
      "Computing: 100%|███████████████████████████████████████████████████████████████████████| 50/50 [01:48<00:00,  2.16s/it]\n"
     ]
    },
    {
     "name": "stdout",
     "output_type": "stream",
     "text": [
      "Average time for flpa: 1.0657 seconds +- 0.1316.\n",
      "Average time for asyn. lpa: 0.5226 seconds +- 0.1406.\n",
      "Average time for syn. lpa: 0.5717 seconds +- 0.0234.\n",
      "--------------------------------------------------\n",
      "Nodes: 10000, Edges: 51112, Mixing parameter: 0.8, Number of groups: 100\n",
      "Random sizes of groups are the following: [ 28  27 100 358  42 132  16  62  72  12  85  68 143  61 185  64  88  82\n",
      "  91 161 216 145 100 108  37  70 110 137 106 146  15  82 125  83 121  32\n",
      "   2 109  91 144  62  16  33 132  37 172  39  55  74 157 215  70  88  46\n",
      " 268 155  72 104 212 126  29 112  30  70 107  28  57 211 311  84   2 120\n",
      "  84  45 232  27 353 263  68 209  61 114   8 149 159  12  56 164  37  13\n",
      "  29 258   2 144  73   3  31  59 197   0]\n"
     ]
    },
    {
     "name": "stderr",
     "output_type": "stream",
     "text": [
      "Computing: 100%|███████████████████████████████████████████████████████████████████████| 50/50 [01:38<00:00,  1.97s/it]\n"
     ]
    },
    {
     "name": "stdout",
     "output_type": "stream",
     "text": [
      "Average time for flpa: 1.0983 seconds +- 0.1216.\n",
      "Average time for asyn. lpa: 0.3595 seconds +- 0.0537.\n",
      "Average time for syn. lpa: 0.5066 seconds +- 0.0372.\n",
      "--------------------------------------------------\n",
      "Nodes: 10000, Edges: 51352, Mixing parameter: 0.9, Number of groups: 100\n",
      "Random sizes of groups are the following: [142 126  47   8  55 402 162 276  42  31 125 246  88 188  37  74  12 161\n",
      " 298  69 139  49 114 112 124  34  56 330 169  87  18  31 125 106 114 147\n",
      "  56  61 146 127 282 103 145 112  87  20   7   2 117  53   4  58   6  41\n",
      " 149  31 144  19 105  45  67  64   5  58 143  27  52 121  44  97 155 151\n",
      " 221 131 167  34 289 108  50 118  58  41 150   3 117   5 111   7 243  17\n",
      "  91  23   4  38   3 308  55 101 106 153]\n"
     ]
    },
    {
     "name": "stderr",
     "output_type": "stream",
     "text": [
      "Computing: 100%|███████████████████████████████████████████████████████████████████████| 50/50 [01:35<00:00,  1.91s/it]\n"
     ]
    },
    {
     "name": "stdout",
     "output_type": "stream",
     "text": [
      "Average time for flpa: 1.0931 seconds +- 0.1239.\n",
      "Average time for asyn. lpa: 0.3311 seconds +- 0.0404.\n",
      "Average time for syn. lpa: 0.4874 seconds +- 0.0188.\n",
      "--------------------------------------------------\n"
     ]
    },
    {
     "data": {
      "image/png": "[encoded data removed]",
      "text/plain": [
       "<Figure size 640x480 with 1 Axes>"
      ]
     },
     "metadata": {},
     "output_type": "display_data"
    }
   ],
   "source": [
    "#Plotting the computing times for the LPA asyn., LPA syn., FLPA on a SBM synthetic network\n",
    "#with increasing mixing parameter and fixed number of nodes, number of groups and randomic generated\n",
    "#blocks' sizes\n",
    "\n",
    "import numpy as np\n",
    "import networkx as nx\n",
    "import matplotlib.pyplot as plt\n",
    "import timeit\n",
    "from tqdm import tqdm\n",
    "\n",
    "#Creating the SBM networks\n",
    "def create_sbm(num_nodes, num_groups, avg_degree, mu):  \n",
    "    #Random generation of blocks' sizes\n",
    "    sizes = np.random.multinomial(num_nodes, np.random.dirichlet(alpha=[1] * num_groups))\n",
    "    \n",
    "    #We set minimum dimension and normalize the sum\n",
    "    sizes = np.maximum(sizes, 2)\n",
    "    sizes[-1] += num_nodes - sizes.sum()\n",
    "    \n",
    "    #Probability matrix \n",
    "    prob_matrix = np.full((num_groups, num_groups), mu * avg_degree / (num_nodes - np.max(sizes)))\n",
    "    np.fill_diagonal(prob_matrix, np.clip((1 - mu) * avg_degree / np.maximum(np.array(sizes) - 1, 1), 0, 1))\n",
    "\n",
    "    #SBM generator\n",
    "    G = nx.stochastic_block_model(sizes.tolist(), prob_matrix, seed=42)\n",
    "    \n",
    "    return G, sizes\n",
    "\n",
    "#Parameters\n",
    "n= 10000\n",
    "num_groups = 100 #tested 2-5-10-20-50-100\n",
    "avg_degree = 10\n",
    "mu_v = [0.1,0.2,0.3,0.4,0.5,0.6,0.7,0.8,0.9]\n",
    "\n",
    "#Initializing the variables\n",
    "medium_t_flpa=[]\n",
    "medium_t_lpa_asyn=[]\n",
    "medium_t_lpa_syn=[]\n",
    "std_t_flpa=[]\n",
    "std_t_lpa_asyn=[]\n",
    "std_t_lpa_syn=[]\n",
    "j=0\n",
    "\n",
    "for mu in mu_v:\n",
    "    t_iterations_lpa_asyn=[]\n",
    "    t_iterations_lpa_syn=[]\n",
    "    t_iterations_flpa=[]\n",
    "\n",
    "    #Printing parameters of the created network\n",
    "    G,sizes = create_sbm(n, num_groups, avg_degree, mu)   \n",
    "    print(f\"Nodes: {G.number_of_nodes()}, Edges: {G.number_of_edges()}, Mixing parameter: {mu}, Number of groups: {num_groups}\")\n",
    "    print(f\"Random sizes of groups are the following: {sizes}\")\n",
    "\n",
    "    for i in tqdm(range(50), desc=\"Computing\"):\n",
    "        #Computing time for FLPA\n",
    "        start_time = timeit.default_timer() \n",
    "        communities_flpa=list(nx.community.fast_label_propagation_communities(G))\n",
    "        end_time = timeit.default_timer() \n",
    "        t_iteration = end_time - start_time\n",
    "        t_iterations_flpa.append(t_iteration)\n",
    "\n",
    "        #Computing time for asyn. LPA\n",
    "        start_time = timeit.default_timer() \n",
    "        communities_lpa_asyn = list(nx.community.asyn_lpa_communities(G))\n",
    "        end_time = timeit.default_timer() \n",
    "        tempo_iterazione = end_time - start_time  \n",
    "        t_iterations_lpa_asyn.append(tempo_iterazione)\n",
    "\n",
    "        #Computing time for syn. LPA\n",
    "        start_time = timeit.default_timer() \n",
    "        communities_lpa_syn = list(nx.community.label_propagation_communities(G))\n",
    "        end_time = timeit.default_timer() \n",
    "        tempo_iterazione = end_time - start_time  \n",
    "        t_iterations_lpa_syn.append(tempo_iterazione)\n",
    "\n",
    "    #Computing average and standard deviation for each algorithm\n",
    "    medium_t_flpa.append(np.mean(t_iterations_flpa))\n",
    "    std_t_flpa.append(np.std(t_iterations_flpa))\n",
    "    print(f\"Average time for flpa: {round(medium_t_flpa[j], 4)} seconds +- {round(std_t_flpa[j], 4)}.\")\n",
    "\n",
    "    medium_t_lpa_asyn.append(np.mean(t_iterations_lpa_asyn))\n",
    "    std_t_lpa_asyn.append(np.std(t_iterations_lpa_asyn))\n",
    "    print(f\"Average time for asyn. lpa: {round(medium_t_lpa_asyn[j], 4)} seconds +- {round(std_t_lpa_asyn[j], 4)}.\")\n",
    "\n",
    "    medium_t_lpa_syn.append(np.mean(t_iterations_lpa_syn))\n",
    "    std_t_lpa_syn.append(np.std(t_iterations_lpa_syn))\n",
    "    print(f\"Average time for syn. lpa: {round(medium_t_lpa_syn[j], 4)} seconds +- {round(std_t_lpa_syn[j], 4)}.\")\n",
    "\n",
    "    print(\"-\"*50)\n",
    "    j=j+1\n",
    "\n",
    "#Plotting the results\n",
    "plt.scatter(mu_v, medium_t_flpa,color='blue', label='FLPA',s=10)\n",
    "plt.errorbar(mu_v, medium_t_flpa,yerr=std_t_flpa,color='blue')\n",
    "plt.scatter(mu_v, medium_t_lpa_asyn,color='red', label='Asyn. LPA',s=10)\n",
    "plt.errorbar(mu_v, medium_t_lpa_asyn,yerr=std_t_lpa_asyn,color='red')\n",
    "plt.scatter(mu_v, medium_t_lpa_syn,color='green', label='Syn. LPA', s=10)\n",
    "plt.errorbar(mu_v, medium_t_lpa_syn,yerr=std_t_lpa_syn,color='green')\n",
    "\n",
    "plt.xlabel('mixing parameter')\n",
    "plt.ylabel('time (s)')\n",
    "plt.title(f'SBM with {n} nodes and {num_groups} groups with random sizes' )\n",
    "plt.legend()\n",
    "plt.savefig(f\"SBM_rand_nGroups_{num_groups}.png\")\n",
    "plt.show()"
   ]
  },
  {
   "cell_type": "code",
   "execution_count": null,
   "id": "e23bd0ba-18f3-49a1-9ee4-6370ed281de3",
   "metadata": {},
   "outputs": [],
   "source": []
  }
 ],
 "metadata": {
  "kernelspec": {
   "display_name": "Python 3 (ipykernel)",
   "language": "python",
   "name": "python3"
  },
  "language_info": {
   "codemirror_mode": {
    "name": "ipython",
    "version": 3
   },
   "file_extension": ".py",
   "mimetype": "text/x-python",
   "name": "python",
   "nbconvert_exporter": "python",
   "pygments_lexer": "ipython3",
   "version": "3.12.3"
  }
 },
 "nbformat": 4,
 "nbformat_minor": 5
}
